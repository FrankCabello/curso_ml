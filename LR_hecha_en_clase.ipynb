{
  "nbformat": 4,
  "nbformat_minor": 0,
  "metadata": {
    "colab": {
      "name": "Untitled0.ipynb",
      "provenance": []
    },
    "kernelspec": {
      "name": "python3",
      "display_name": "Python 3"
    },
    "language_info": {
      "name": "python"
    }
  },
  "cells": [
    {
      "cell_type": "code",
      "metadata": {
        "id": "MrMAS2tRD1Rr"
      },
      "source": [
        "import numpy as np\n",
        "import pandas as pd\n",
        "import matplotlib.pyplot as plt"
      ],
      "execution_count": 1,
      "outputs": []
    },
    {
      "cell_type": "code",
      "metadata": {
        "id": "3RIcO9IcEApY"
      },
      "source": [
        "def gradient_descent(data_train, data_valid, lr=0.1, ep=0.001, max_iter=10000):\n",
        "  X_train, y_train = data_train\n",
        "  X_valid, y_valid = data_valid\n",
        "\n",
        "  converged = False\n",
        "  count_iter = 0\n",
        "\n",
        "  w0 = np.random.rand(1)\n",
        "  w1 = np.random.rand(1)\n",
        "\n",
        "  N_train = len(y_train)\n",
        "  N_valid = len(y_valid)\n",
        "\n",
        "  J_train = (1/(2*N_train))*sum([ (w0 + w1*X_train[i] - y_train[i])**2 for i in range(N_train)])\n",
        "  J_valid = (1/(2*N_valid))*sum([ (w0 + w1*X_valid[i] - y_valid[i])**2 for i in range(N_valid)])\n",
        "\n",
        "  cost_train = [J_train]\n",
        "  cost_valid = [J_valid]\n",
        "\n",
        "  while not converged:\n",
        "    grad_w0 = (1/N_train)*sum([ (w0 + w1*X_train[i] - y_train[i])*1 for i in range(N_train)])\n",
        "    grad_w1 = (1/N_train)*sum([ (w0 + w1*X_train[i] - y_train[i])*X_train[i] for i in range(N_train)])\n",
        "\n",
        "    w0 = w0 - lr*grad_w0\n",
        "    w1 = w1 - lr*grad_w1\n",
        "\n",
        "    err_train = (1/(2*N_train))*sum([ (w0 + w1*X_train[i] - y_train[i])**2 for i in range(N_train)])\n",
        "    cost_train.append(err_train[0])\n",
        "\n",
        "    if abs(J_train-err_train)<ep:\n",
        "      print(f\"Converged successfully in iter: {count_iter}\")\n",
        "      converged = True\n",
        "    \n",
        "    if count_iter == max_iter:\n",
        "      converged = True\n",
        "\n",
        "    if count_iter % 500 == 0:\n",
        "      err_valid = (1/(2*N_valid))*sum([ (w0 + w1*X_valid[i] - y_valid[i])**2 for i in range(N_valid)])\n",
        "      #J_valid = err_valid\n",
        "      cost_valid.append(err_valid[0])\n",
        "      print(f\"count_iter: {count_iter},  cost_train: {err_train} , cost_valid: {err_valid}\")\n",
        "\n",
        "    J_train = err_train\n",
        "    count_iter += 1\n",
        "  return w0, w1, cost_train, cost_valid"
      ],
      "execution_count": 52,
      "outputs": []
    },
    {
      "cell_type": "markdown",
      "metadata": {
        "id": "w24qBs2CGcum"
      },
      "source": [
        "# Pre-procesamiento"
      ]
    },
    {
      "cell_type": "code",
      "metadata": {
        "id": "k2jV8wuhGWbe",
        "outputId": "2ca83d6b-e4b0-4dfd-94e0-a70a0b1eb690",
        "colab": {
          "base_uri": "https://localhost:8080/",
          "height": 203
        }
      },
      "source": [
        "df_train = pd.read_csv('train_function.csv')\n",
        "df_train.head()"
      ],
      "execution_count": 3,
      "outputs": [
        {
          "output_type": "execute_result",
          "data": {
            "text/html": [
              "<div>\n",
              "<style scoped>\n",
              "    .dataframe tbody tr th:only-of-type {\n",
              "        vertical-align: middle;\n",
              "    }\n",
              "\n",
              "    .dataframe tbody tr th {\n",
              "        vertical-align: top;\n",
              "    }\n",
              "\n",
              "    .dataframe thead th {\n",
              "        text-align: right;\n",
              "    }\n",
              "</style>\n",
              "<table border=\"1\" class=\"dataframe\">\n",
              "  <thead>\n",
              "    <tr style=\"text-align: right;\">\n",
              "      <th></th>\n",
              "      <th>X</th>\n",
              "      <th>y</th>\n",
              "    </tr>\n",
              "  </thead>\n",
              "  <tbody>\n",
              "    <tr>\n",
              "      <th>0</th>\n",
              "      <td>93.0</td>\n",
              "      <td>2450.895813</td>\n",
              "    </tr>\n",
              "    <tr>\n",
              "      <th>1</th>\n",
              "      <td>81.0</td>\n",
              "      <td>1973.210485</td>\n",
              "    </tr>\n",
              "    <tr>\n",
              "      <th>2</th>\n",
              "      <td>20.0</td>\n",
              "      <td>438.338496</td>\n",
              "    </tr>\n",
              "    <tr>\n",
              "      <th>3</th>\n",
              "      <td>39.0</td>\n",
              "      <td>461.168504</td>\n",
              "    </tr>\n",
              "    <tr>\n",
              "      <th>4</th>\n",
              "      <td>202.0</td>\n",
              "      <td>7402.304030</td>\n",
              "    </tr>\n",
              "  </tbody>\n",
              "</table>\n",
              "</div>"
            ],
            "text/plain": [
              "       X            y\n",
              "0   93.0  2450.895813\n",
              "1   81.0  1973.210485\n",
              "2   20.0   438.338496\n",
              "3   39.0   461.168504\n",
              "4  202.0  7402.304030"
            ]
          },
          "metadata": {},
          "execution_count": 3
        }
      ]
    },
    {
      "cell_type": "code",
      "metadata": {
        "id": "UPVojNkTGoLa"
      },
      "source": [
        ""
      ],
      "execution_count": 7,
      "outputs": []
    },
    {
      "cell_type": "code",
      "metadata": {
        "id": "iTW1rU04Gt9q"
      },
      "source": [
        ""
      ],
      "execution_count": 12,
      "outputs": []
    },
    {
      "cell_type": "code",
      "metadata": {
        "id": "F0YBdS9GI3fk",
        "outputId": "08d7beb6-9e75-4327-acdf-324f73964af6",
        "colab": {
          "base_uri": "https://localhost:8080/"
        }
      },
      "source": [
        "X.shape, y.shape"
      ],
      "execution_count": 31,
      "outputs": [
        {
          "output_type": "execute_result",
          "data": {
            "text/plain": [
              "((200,), (200,))"
            ]
          },
          "metadata": {},
          "execution_count": 31
        }
      ]
    },
    {
      "cell_type": "code",
      "metadata": {
        "id": "HlTfsu5sHfEj",
        "outputId": "548d91ea-6ebb-4c26-ac09-d331e3a34c98",
        "colab": {
          "base_uri": "https://localhost:8080/"
        }
      },
      "source": [
        "len(df_train.index)"
      ],
      "execution_count": 14,
      "outputs": [
        {
          "output_type": "execute_result",
          "data": {
            "text/plain": [
              "200"
            ]
          },
          "metadata": {},
          "execution_count": 14
        }
      ]
    },
    {
      "cell_type": "code",
      "metadata": {
        "id": "jzM8dyHcG2sB"
      },
      "source": [
        ""
      ],
      "execution_count": 25,
      "outputs": []
    },
    {
      "cell_type": "code",
      "metadata": {
        "id": "h4o9gWNRHI5c",
        "outputId": "3b8877da-17bd-43b7-a410-aa4b6f542327",
        "colab": {
          "base_uri": "https://localhost:8080/"
        }
      },
      "source": [
        "#X_train.shape, y_train.shape, X_valid.shape, y_valid.shape"
      ],
      "execution_count": 26,
      "outputs": [
        {
          "output_type": "execute_result",
          "data": {
            "text/plain": [
              "((160,), (160,), (40,), (40,))"
            ]
          },
          "metadata": {},
          "execution_count": 26
        }
      ]
    },
    {
      "cell_type": "code",
      "metadata": {
        "id": "QDZGMVL1HtiS",
        "outputId": "82c42bfc-9211-41de-bdea-47eac9f32f06",
        "colab": {
          "base_uri": "https://localhost:8080/"
        }
      },
      "source": [
        "data = df_train[['X','y']].to_numpy()\n",
        "X, y = data[:,0], data[:,1]\n",
        "\n",
        "#X = X**2\n",
        "y = np.sqrt(y)\n",
        "\n",
        "test_split = 0.8\n",
        "N = len(df_train.index)\n",
        "sz = int(test_split*N)\n",
        "X_train, y_train = X[:sz], y[:sz]\n",
        "X_valid, y_valid = X[sz:], y[sz:]\n",
        "\n",
        "# y_train = np.sqrt(y_train) # No linearidad\n",
        "# y_valid = np.sqrt(y_valid)\n",
        "\n",
        "\n",
        "\n",
        "mean_X = np.mean(X_train)\n",
        "std_X = np.std(X_train)\n",
        "\n",
        "mean_y = np.mean(y_train)\n",
        "std_y = np.std(y_train)\n",
        "\n",
        "X_train = (X_train - mean_X)/std_X\n",
        "y_train = (y_train - mean_y)/std_y\n",
        "\n",
        "X_valid = (X_valid - mean_X)/std_X\n",
        "y_valid = (y_valid - mean_y)/std_y\n",
        "\n",
        "data_train = (X_train, y_train)\n",
        "data_valid = (X_valid, y_valid)\n",
        "\n",
        "w0, w1, c_train, c_valid = gradient_descent(data_train, data_valid, lr=0.1, ep=1e-8, max_iter=10000)"
      ],
      "execution_count": 135,
      "outputs": [
        {
          "output_type": "stream",
          "name": "stdout",
          "text": [
            "count_iter: 0,  cost_train: [0.06416777] , cost_valid: [0.03720997]\n",
            "Converged successfully in iter: 68\n"
          ]
        }
      ]
    },
    {
      "cell_type": "code",
      "metadata": {
        "id": "fGu50w9rTxMA"
      },
      "source": [
        "# plt.plot(c_train)\n",
        "# plt.show()\n",
        "# plt.plot(c_valid)\n",
        "# plt.show()"
      ],
      "execution_count": 110,
      "outputs": []
    },
    {
      "cell_type": "code",
      "metadata": {
        "id": "J0Ola83gMSi4",
        "outputId": "2775e9a1-b14b-4578-cd67-a66b226c81f4",
        "colab": {
          "base_uri": "https://localhost:8080/",
          "height": 265
        }
      },
      "source": [
        "# plt.scatter(X_train, y_train)\n",
        "# plt.plot(np.arange(-1.6,2,0.1), w0 +w1*np.arange(-1.6,2,0.1)**2, 'r')\n",
        "# plt.show()\n",
        "\n",
        "plt.scatter(X_train, y_train)\n",
        "plt.plot(np.arange(-1.2,2.4,0.1), [(w0 + w1 * x)[0] for x in np.arange(-1.2,2.4,0.1)], 'r')\n",
        "plt.show()"
      ],
      "execution_count": 136,
      "outputs": [
        {
          "output_type": "display_data",
          "data": {
            "image/png": "[encoded data removed]",
            "text/plain": [
              "<Figure size 432x288 with 1 Axes>"
            ]
          },
          "metadata": {
            "needs_background": "light"
          }
        }
      ]
    },
    {
      "cell_type": "code",
      "metadata": {
        "id": "QuewCO-zOHOS",
        "outputId": "be88346c-4b40-4813-fd7b-64d09921bfef",
        "colab": {
          "base_uri": "https://localhost:8080/"
        }
      },
      "source": [
        "df_test = pd.read_csv('test_function.csv')\n",
        "len(df_test.index)"
      ],
      "execution_count": 137,
      "outputs": [
        {
          "output_type": "execute_result",
          "data": {
            "text/plain": [
              "40"
            ]
          },
          "metadata": {},
          "execution_count": 137
        }
      ]
    },
    {
      "cell_type": "code",
      "metadata": {
        "id": "MUF90rSKORDi"
      },
      "source": [
        "from sklearn.metrics import mean_absolute_error, mean_squared_error"
      ],
      "execution_count": 138,
      "outputs": []
    },
    {
      "cell_type": "code",
      "metadata": {
        "id": "UPYTf0wtPaLP"
      },
      "source": [
        "data_test = df_test[['X','y']].to_numpy()"
      ],
      "execution_count": 139,
      "outputs": []
    },
    {
      "cell_type": "code",
      "metadata": {
        "id": "xY9vJ_FRO_dC"
      },
      "source": [
        "X_test, y_test = data_test[:,0], data_test[:,1]\n",
        "#X_test = X_test**2\n",
        "y_test = np.sqrt(y_test)\n",
        "\n",
        "X_test = (X_test - mean_X)/std_X\n",
        "\n",
        "y_pred = w0 + w1*X_test\n",
        "y_pred = y_pred*std_y + mean_y\n",
        "y_pred = y_pred**2  # sqrt"
      ],
      "execution_count": 144,
      "outputs": []
    },
    {
      "cell_type": "code",
      "metadata": {
        "id": "jtxiLyYgWylX",
        "outputId": "53cf732d-af3a-484c-b338-f198bb235a15",
        "colab": {
          "base_uri": "https://localhost:8080/"
        }
      },
      "source": [
        "np.max(data_test[:,0])"
      ],
      "execution_count": 141,
      "outputs": [
        {
          "output_type": "execute_result",
          "data": {
            "text/plain": [
              "238.0"
            ]
          },
          "metadata": {},
          "execution_count": 141
        }
      ]
    },
    {
      "cell_type": "code",
      "metadata": {
        "id": "e39rEa9qXcOf",
        "outputId": "871bda0a-307c-484b-b35f-4bc61e0b8ec6",
        "colab": {
          "base_uri": "https://localhost:8080/"
        }
      },
      "source": [
        "data_test[:,0]"
      ],
      "execution_count": 142,
      "outputs": [
        {
          "output_type": "execute_result",
          "data": {
            "text/plain": [
              "array([ 62., 163.,  94.,  56., 238., 102., 175.,  48., 150., 222.,  17.,\n",
              "       209., 211., 166., 145., 116., 214.,  68., 226., 170.,  84., 234.,\n",
              "        36., 176.,  53.,  85.,  29.,   2., 179., 103.,   9., 217., 117.,\n",
              "       174., 161.,  93., 209.,  33.,  31.,  92.])"
            ]
          },
          "metadata": {},
          "execution_count": 142
        }
      ]
    },
    {
      "cell_type": "code",
      "metadata": {
        "id": "btxFhSP-YWLc",
        "outputId": "7edc145b-3eae-4abc-b189-8be05570254b",
        "colab": {
          "base_uri": "https://localhost:8080/",
          "height": 265
        }
      },
      "source": [
        "## USANDO SQRT(Y)\n",
        "#plt.figure(figsize=(20,7))\n",
        "plt.scatter(data_test[:,0], y_pred)\n",
        "plt.plot(np.arange(0,240,1), [((w0 + w1*(x-mean_X)/std_X)[0]*std_y + mean_y)**2 for x in np.arange(0,240,1)], 'r')\n",
        "#plt.plot(np.arange(0,240,1), [((w0 + w1*((x**2-mean_X)/std_X))[0]*std_y + mean_y) for x in np.arange(0,240,1)], 'r')\n",
        "plt.show()"
      ],
      "execution_count": 145,
      "outputs": [
        {
          "output_type": "display_data",
          "data": {
            "image/png": "[encoded data removed]",
            "text/plain": [
              "<Figure size 432x288 with 1 Axes>"
            ]
          },
          "metadata": {
            "needs_background": "light"
          }
        }
      ]
    },
    {
      "cell_type": "code",
      "metadata": {
        "id": "Q3J6r8_CWlGh",
        "outputId": "b8deaef6-22a4-4ac8-cb62-98e3c9712c76",
        "colab": {
          "base_uri": "https://localhost:8080/",
          "height": 265
        }
      },
      "source": [
        "## USANDO X**2\n",
        "plt.scatter(data_test[:,0], y_pred)\n",
        "#plt.plot(np.arange(0,240,1), [((w0 + w1*(x**2-mean_X)/std_X)[0]*std_y + mean_y) for x in np.arange(0,240,1)], 'r')\n",
        "plt.plot(np.arange(0,np.max(data_test[:,0])), (w0 + w1*(np.arange(0,np.max(data_test[:,0]))**2- mean_X)/std_X)*std_y + mean_y, 'r')\n",
        "plt.show()"
      ],
      "execution_count": 134,
      "outputs": [
        {
          "output_type": "display_data",
          "data": {
            "image/png": "[encoded data removed]",
            "text/plain": [
              "<Figure size 432x288 with 1 Axes>"
            ]
          },
          "metadata": {
            "needs_background": "light"
          }
        }
      ]
    },
    {
      "cell_type": "code",
      "metadata": {
        "id": "xFyfrAbKPs1Z",
        "outputId": "b4379226-49c4-4b8d-f51f-9e3b55b978ca",
        "colab": {
          "base_uri": "https://localhost:8080/",
          "height": 265
        }
      },
      "source": [
        "plt.scatter(y_pred, y_test)\n",
        "plt.plot(np.arange(0,10000),np.arange(0,10000), 'r')\n",
        "plt.show()"
      ],
      "execution_count": 122,
      "outputs": [
        {
          "output_type": "display_data",
          "data": {
            "image/png": "[encoded data removed]",
            "text/plain": [
              "<Figure size 432x288 with 1 Axes>"
            ]
          },
          "metadata": {
            "needs_background": "light"
          }
        }
      ]
    },
    {
      "cell_type": "code",
      "metadata": {
        "id": "OQIGkEkCQjB9",
        "outputId": "573b3d67-a3f2-4189-c86a-5aa867bd5d89",
        "colab": {
          "base_uri": "https://localhost:8080/"
        }
      },
      "source": [
        "print(f\"MAE: {mean_absolute_error(y_pred, y_test)}\")"
      ],
      "execution_count": 123,
      "outputs": [
        {
          "output_type": "stream",
          "name": "stdout",
          "text": [
            "MAE: 184.39284762400243\n"
          ]
        }
      ]
    },
    {
      "cell_type": "code",
      "metadata": {
        "id": "hgWKaLILQ5sH",
        "outputId": "3d54ead8-64cf-4906-c85a-b8b6823bee2e",
        "colab": {
          "base_uri": "https://localhost:8080/"
        }
      },
      "source": [
        "print(f\"RMSE: {np.sqrt(mean_squared_error(y_pred, y_test))}\")"
      ],
      "execution_count": 124,
      "outputs": [
        {
          "output_type": "stream",
          "name": "stdout",
          "text": [
            "RMSE: 219.95002459444316\n"
          ]
        }
      ]
    },
    {
      "cell_type": "code",
      "metadata": {
        "id": "zo_uNGEnRelG",
        "outputId": "bc1fe426-15f0-45e3-8303-a5049d769357",
        "colab": {
          "base_uri": "https://localhost:8080/"
        }
      },
      "source": [
        "print(f\"MAE: {mean_absolute_error(y_pred, data_test[:,1])}\")"
      ],
      "execution_count": 148,
      "outputs": [
        {
          "output_type": "stream",
          "name": "stdout",
          "text": [
            "MAE: 81.35703887473014\n"
          ]
        }
      ]
    },
    {
      "cell_type": "code",
      "metadata": {
        "id": "4LYcUE75YvxR",
        "outputId": "3003cb0b-be23-46e7-fc3e-b53197a26e84",
        "colab": {
          "base_uri": "https://localhost:8080/"
        }
      },
      "source": [
        "print(f\"RMSE: {np.sqrt(mean_squared_error(y_pred, data_test[:,1]))}\")"
      ],
      "execution_count": 149,
      "outputs": [
        {
          "output_type": "stream",
          "name": "stdout",
          "text": [
            "RMSE: 101.48777269418149\n"
          ]
        }
      ]
    },
    {
      "cell_type": "code",
      "metadata": {
        "id": "E5ogsYtTYw06"
      },
      "source": [
        ""
      ],
      "execution_count": null,
      "outputs": []
    }
  ]
}